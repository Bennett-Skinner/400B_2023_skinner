{
 "cells": [
  {
   "cell_type": "markdown",
   "metadata": {},
   "source": [
    "# Lab 8 : Star Formation "
   ]
  },
  {
   "cell_type": "code",
   "execution_count": 1,
   "metadata": {},
   "outputs": [],
   "source": [
    "import numpy as np\n",
    "from astropy import units as u\n",
    "from astropy import constants as const\n",
    "\n",
    "import matplotlib\n",
    "import matplotlib.pyplot as plt\n",
    "from matplotlib.colors import LogNorm\n",
    "%matplotlib inline"
   ]
  },
  {
   "cell_type": "markdown",
   "metadata": {},
   "source": [
    "# Part A\n",
    "\n",
    "Create a function that returns the SFR for a given luminosity (NUV, FUV, TIR, Halpha)\n",
    "\n",
    "$Log( {\\rm SFR} (M_\\odot/year)) = Log(Lx (erg/s)) - Log(Cx)$ \n",
    "\n",
    "Including corrections for dust absorption \n",
    "\n",
    "Kennicutt & Evans 2012 ARA&A Equation 12 and Table 1, 2"
   ]
  },
  {
   "cell_type": "code",
   "execution_count": 2,
   "metadata": {},
   "outputs": [],
   "source": [
    "def StarFormationRate(L, Type, TIR=0):\n",
    "    '''\n",
    "    Computes the Star Formation Rate (SFR) following Kennicutt & Evans 2012 Eq. 12 (ARA&A 50)\n",
    "    \n",
    "    INPUTS\n",
    "    ------\n",
    "    L: 'float'\n",
    "        Luminosity of the galaxy in a given waveband (erg/s)\n",
    "    Type: 'string'\n",
    "        The wavelength: 'FUV', 'NUV', 'TIR', 'Halpha'\n",
    "    TIR: 'float'\n",
    "        Total infrared luminosity in erg/s (default = 0)\n",
    "    \n",
    "    OUTPUTS\n",
    "    -------\n",
    "    SFR: 'float'\n",
    "        Log of the star formation rate (Msun/yr)\n",
    "    '''\n",
    "    if (Type == 'FUV'):\n",
    "        logCx = 43.35 # Calibration from Table 1 (K&E 2012)\n",
    "        TIRc = 0.46 # Correlation for dust absorption from Table 2 (K&E 2012)\n",
    "    elif (Type == 'NUV'):\n",
    "        logCx = 43.17\n",
    "        TIRc = 0.27\n",
    "    elif (Type == 'Halpha'):\n",
    "        logCx = 41.27\n",
    "        TIRc = 0.0024\n",
    "    elif (Type == 'TIR'):\n",
    "        logCx = 43.41\n",
    "        TIRc = 0\n",
    "    else:\n",
    "        print(\"Missing Wavelength: FUV, NUV, Halpha, TIR\")\n",
    "    \n",
    "    # Correct the luminosity for dust using TIR\n",
    "    Lnew = L + TIRc*TIR\n",
    "    \n",
    "    # Star Formation Rate\n",
    "    SFR = np.log10(Lnew)-logCx\n",
    "    \n",
    "    return SFR"
   ]
  },
  {
   "cell_type": "markdown",
   "metadata": {},
   "source": [
    "Let's try to reproduce SFRs derived for galaxies from UV luminosities measured with Galex. \n",
    "\n",
    "Using Table 1 from Lee et al. 2009\n",
    "https://ui.adsabs.harvard.edu/abs/2009ApJ...706..599L/abstract\n",
    "\n",
    "We will use galaxy properties from NED:\n",
    "https://ned.ipac.caltech.edu/"
   ]
  },
  {
   "cell_type": "code",
   "execution_count": 3,
   "metadata": {},
   "outputs": [],
   "source": [
    "LsunErgS = const.L_sun.to(u.erg/u.s).value"
   ]
  },
  {
   "cell_type": "code",
   "execution_count": 4,
   "metadata": {},
   "outputs": [
    {
     "name": "stdout",
     "output_type": "stream",
     "text": [
      "-2.3322074670824904\n"
     ]
    }
   ],
   "source": [
    "#  WLM Dwarf Irregular Galaxy\n",
    "# From NED: WLM NUV L = 1.71e7 Lsun\n",
    "# From NED: WLM NIR L = 2.48e6 Lsun\n",
    "# From NED: WLM FIR L = 7.84e5 Lsun\n",
    "NUV_WLM = 1.71e7*LsunErgS\n",
    "TIR_WLM = (2.48e6+7.84e5)*LsunErgS\n",
    "print(StarFormationRate(NUV_WLM, 'NUV', TIR_WLM))"
   ]
  },
  {
   "cell_type": "code",
   "execution_count": 5,
   "metadata": {},
   "outputs": [
    {
     "name": "stdout",
     "output_type": "stream",
     "text": [
      "-0.7963137516542105\n"
     ]
    }
   ],
   "source": [
    "# NGC 24 Sc galaxy\n",
    "# From NED: NGC24 NUV L = 3.09e8 Lsun\n",
    "# From NED: NGC24 NIR L = 8.34e8 Lsun\n",
    "# From NED: NGC24 FIR L = 3.09e8 Lsun\n",
    "NUV_NGC24 = 3.09e8*LsunErgS\n",
    "TIR_NGC24 = (8.34e8+3.09e8)*LsunErgS\n",
    "print(StarFormationRate(NUV_NGC24, 'NUV', TIR_NGC24))"
   ]
  },
  {
   "cell_type": "markdown",
   "metadata": {},
   "source": [
    "# Part B Star formation main sequence\n",
    "\n",
    "1) Write a function that returns the average SFR of a galaxy at a given redshift. \n",
    "\n",
    "2) What is the average SFR of a MW mass galaxy today? at z=1?\n",
    "\n",
    "3) Plot the SFR main sequence for a few different redshifts from 1e9 to 1e12 Msun.\n",
    "\n",
    "\n",
    "From Whitaker 2012:\n",
    "\n",
    "log(SFR) = $\\alpha(z)({\\rm log}M_\\ast - 10.5) + \\beta(z)$\n",
    "\n",
    "$\\alpha(z) = 0.7 - 0.13z$\n",
    "\n",
    "$\\beta(z) = 0.38 + 1.14z - 0.19z^2$"
   ]
  },
  {
   "cell_type": "markdown",
   "metadata": {},
   "source": [
    "# Step 1"
   ]
  },
  {
   "cell_type": "code",
   "execution_count": 6,
   "metadata": {},
   "outputs": [],
   "source": [
    "def SFRMainSequence(Mstar,z):\n",
    "    '''\n",
    "    Computes average SFR of a galaxy as a function of stellar mass\n",
    "    \n",
    "    INPUTS\n",
    "    ------\n",
    "    Mstar: 'float'\n",
    "        Stellar mass of the galaxy in Msun\n",
    "    z: 'float'\n",
    "        Redshift\n",
    "    \n",
    "    OUTPUTS\n",
    "    -------\n",
    "    logSFR: 'float'\n",
    "        log(SFR (Msun/yr))\n",
    "    '''\n",
    "    alpha = 0.7-0.13*z\n",
    "    beta = 0.38+1.14*z-0.19*z**2\n",
    "    return alpha*(np.log10(Mstar)-10.5)+beta"
   ]
  },
  {
   "cell_type": "markdown",
   "metadata": {},
   "source": [
    "# Step 2"
   ]
  },
  {
   "cell_type": "code",
   "execution_count": 7,
   "metadata": {},
   "outputs": [
    {
     "name": "stdout",
     "output_type": "stream",
     "text": [
      "4.5937038237959715\n"
     ]
    }
   ],
   "source": [
    "# MW at z=0\n",
    "MW_disk = 8e10\n",
    "print(10**SFRMainSequence(MW_disk,0))"
   ]
  },
  {
   "cell_type": "code",
   "execution_count": 8,
   "metadata": {},
   "outputs": [
    {
     "name": "stdout",
     "output_type": "stream",
     "text": [
      "36.287854588142594\n"
     ]
    }
   ],
   "source": [
    "# MW at z = 1\n",
    "print(10**SFRMainSequence(MW_disk,1))"
   ]
  },
  {
   "cell_type": "markdown",
   "metadata": {},
   "source": [
    "# Step 3"
   ]
  },
  {
   "cell_type": "code",
   "execution_count": 9,
   "metadata": {},
   "outputs": [],
   "source": [
    "# create an array of stellar masses\n",
    "Mass = np.linspace(1e6,1e12)"
   ]
  },
  {
   "cell_type": "code",
   "execution_count": null,
   "metadata": {},
   "outputs": [],
   "source": [
    "\n",
    "fig = plt.figure(figsize=(8,8), dpi=500)\n",
    "ax = plt.subplot(111)\n",
    "\n",
    "# add log log plots\n",
    "plt.loglog(Mass, 10**SFRMainSequence(Mass,0),color='b',lw=3,label='z=0')\n",
    "plt.loglog(Mass, 10**SFRMainSequence(Mass,1),color='g',linestyle='--',lw=3,label='z=1')\n",
    "plt.loglog(Mass, 10**SFRMainSequence(Mass,3),color='r',linestyle='dashdot',lw=3,label='z=3')\n",
    "plt.loglog(Mass, 10**SFRMainSequence(Mass,5),color='k',linestyle='dotted',lw=3,label='z=5')\n",
    "\n",
    "# Add axis labels\n",
    "plt.xlabel('Log (Mstar (M$_\\odot$))', fontsize=12)\n",
    "plt.ylabel('Log(SFR (M$_\\odot$/year))', fontsize=12)\n",
    "\n",
    "\n",
    "#adjust tick label font size\n",
    "label_size = 12\n",
    "matplotlib.rcParams['xtick.labelsize'] = label_size \n",
    "matplotlib.rcParams['ytick.labelsize'] = label_size\n",
    "\n",
    "# add a legend with some customizations.\n",
    "legend = ax.legend(loc='upper left',fontsize='x-large')\n"
   ]
  },
  {
   "cell_type": "markdown",
   "metadata": {},
   "source": [
    "# Part C  Starbursts\n",
    "\n",
    "Use your `StarFormationRate` code to determine the typical star formation rates for the following systems with the listed Total Infrared Luminosities (TIR): \n",
    "\n",
    "Normal Galaxies: $10^{10}$ L$_\\odot$\n",
    "\n",
    "LIRG: $10^{11}$ L$_\\odot$\n",
    "\n",
    "ULIRG: $10^{12} $ L$_\\odot$\n",
    "\n",
    "HLIRG: $10^{13} $ L$_\\odot$"
   ]
  },
  {
   "cell_type": "code",
   "execution_count": null,
   "metadata": {},
   "outputs": [],
   "source": [
    "# normal galaxies \n",
    "TIR_Normal = 1e10*LsunErgS\n",
    "print(10**StarFormationRate(TIR_Normal,'TIR'))"
   ]
  },
  {
   "cell_type": "code",
   "execution_count": null,
   "metadata": {},
   "outputs": [],
   "source": [
    "# LIRGs \n",
    "TIR_LIRG = 1e11*LsunErgS\n",
    "print(10**StarFormationRate(TIR_LIRG,'TIR'))"
   ]
  },
  {
   "cell_type": "code",
   "execution_count": null,
   "metadata": {},
   "outputs": [],
   "source": [
    "# ULIRGs\n",
    "TIR_ULIRG = 1e12*LsunErgS\n",
    "print(10**StarFormationRate(TIR_ULIRG,'TIR'))"
   ]
  },
  {
   "cell_type": "code",
   "execution_count": null,
   "metadata": {},
   "outputs": [],
   "source": [
    "# HLIRGs\n",
    "TIR_HLIRG = 1e13*LsunErgS\n",
    "print(10**StarFormationRate(TIR_HLIRG,'TIR'))"
   ]
  }
 ],
 "metadata": {
  "kernelspec": {
   "display_name": "Python 3 (ipykernel)",
   "language": "python",
   "name": "python3"
  },
  "language_info": {
   "codemirror_mode": {
    "name": "ipython",
    "version": 3
   },
   "file_extension": ".py",
   "mimetype": "text/x-python",
   "name": "python",
   "nbconvert_exporter": "python",
   "pygments_lexer": "ipython3",
   "version": "3.8.10"
  }
 },
 "nbformat": 4,
 "nbformat_minor": 4
}
