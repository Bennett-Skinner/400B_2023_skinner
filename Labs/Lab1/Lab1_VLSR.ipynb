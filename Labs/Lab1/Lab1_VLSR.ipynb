{
 "cells": [
  {
   "cell_type": "markdown",
   "metadata": {},
   "source": [
    "# In Class Lab 1\n",
    "\n",
    "### Due by 5 PM Jan 31st in your github repository 'Labs/Lab1' folder\n",
    "\n",
    "## Part A:  The Local Standard of Rest\n",
    "Proper motion of Sgr A* from Reid & Brunthaler 2004\n",
    "$\\mu = 6.379$ mas/yr \n",
    "\n",
    "Peculiar motion of the sun, $v_\\odot$ = 12.24 km/s  (Schonrich 2010)\n",
    "\n",
    "\n",
    "$v_{tan} = 4.74 \\frac{\\mu}{\\rm mas/yr} \\frac{R_o}{\\rm kpc} = V_{LSR} + v_\\odot$\n",
    "\n",
    "\n",
    "### a)\n",
    "\n",
    "Create a function called VLSR to compute the local standard of res (V$_{LSR}$).\n",
    "\n",
    "The function should take as input: the solar radius (R$_o$), the proper motion (mu)\n",
    "and the peculiar motion of the sun in the $v_\\odot$ direction.\n",
    "\n",
    "Compute V$_{LSR}$ using three different values R$_o$: \n",
    "1. Water Maser Distance for the Sun :  R$_o$ = 8.34 kpc   (Reid 2014 ApJ 783) \n",
    "2. GRAVITY Collaboration Distance for the Sun:  R$_o$ = 8.178 kpc   (Abuter+2019 A&A 625)\n",
    "3. Value for Distance to Sun listed in Sparke & Gallagher : R$_o$ = 7.9 kpc \n"
   ]
  },
  {
   "cell_type": "code",
   "execution_count": 1,
   "metadata": {},
   "outputs": [],
   "source": [
    "# Import Modules \n",
    "import numpy as np # import numpy\n",
    "import astropy.units as u # import astropy units\n",
    "from astropy import constants as const # import astropy constants\n",
    "# test\n",
    "def VLSR(Ro,mu=6.379,vsun=12.24*u.km/u.s):\n",
    "    '''\n",
    "    This function will compute the velocity at the local standard of rest\n",
    "        VLSR = 4.74*mu*R0-vsun\n",
    "    @param Ro (Quantity), the distance from the sun to the galactic center in kpc\n",
    "    @param mu (float), the proper motion of Sgr A* in mas/yr, by default from Reid & Brunthaler 2004\n",
    "    @param vsun (Quanity), the peculiar motion of the sun in the v direction, by default from Schonrich+2010\n",
    "    @returns vlsr (Quantity), the velocity of the locaity standard of rest\n",
    "    '''\n",
    "    return 4.74*mu*(Ro/u.kpc)*u.km/u.s-(vsun)"
   ]
  },
  {
   "cell_type": "code",
   "execution_count": 2,
   "metadata": {},
   "outputs": [],
   "source": [
    "# Define distances\n",
    "RoReid = 8.34*u.kpc # From Reid+2014\n",
    "RoGravity = 8.178*u.kpc # From Abuter+2019\n",
    "RoSG = 7.9*u.kpc # From Sparke & Gallagher"
   ]
  },
  {
   "cell_type": "code",
   "execution_count": 3,
   "metadata": {},
   "outputs": [
    {
     "name": "stdout",
     "output_type": "stream",
     "text": [
      "239.9320764 km / s\n",
      "235.03376988000002 km / s\n",
      "226.628034 km / s\n"
     ]
    }
   ],
   "source": [
    "# Compute using Reid+2014 R0\n",
    "VLSR_RoReid = VLSR(RoReid)\n",
    "print(VLSR_RoReid)\n",
    "# Compute using Abuter+2019\n",
    "VLSR_RoGravity = VLSR(RoGravity)\n",
    "print(VLSR_RoGravity)\n",
    "# Compute using Sparke & Gallagher\n",
    "VLSR_RoSG = VLSR(RoSG)\n",
    "print(VLSR_RoSG)"
   ]
  },
  {
   "cell_type": "markdown",
   "metadata": {},
   "source": [
    "### b)\n",
    "\n",
    "compute the orbital period of the sun in Gyr using R$_o$ from the GRAVITY Collaboration (assume circular orbit)\n",
    "\n",
    "Note that 1 km/s $\\sim$ 1kpc/Gyr"
   ]
  },
  {
   "cell_type": "code",
   "execution_count": 4,
   "metadata": {},
   "outputs": [],
   "source": [
    "def TorbSun(R,V):\n",
    "    '''\n",
    "    Computes the orbital period of the sun using T = 2*pi*R/v\n",
    "    @param R (Quantity), distance to the galacitc center\n",
    "    @param V (Quantity), velocity of the sun in the v direction\n",
    "    @returns (Quahttp://localhost:8888/notebooks/Lab1_VLSR.ipynb#ntity), the orbital period of the sun\n",
    "    '''\n",
    "    VkpcGyr = V.to(u.kpc/u.Gyr)\n",
    "    T = 2*np.pi*R/VkpcGyr\n",
    "    return T"
   ]
  },
  {
   "cell_type": "markdown",
   "metadata": {},
   "source": [
    "### c)\n",
    "\n",
    "Compute the number of rotations about the GC over the age of the universe (13.8 Gyr)"
   ]
  },
  {
   "cell_type": "code",
   "execution_count": 6,
   "metadata": {},
   "outputs": [],
   "source": [
    "vsunPeculiar = 12.24*u.km/u.s\n",
    "vsun = VLSR_RoGravity + vsunPeculiar\n",
    "T_grav = TorbSun(RoGravity, vsun) # Compute orbital time of sun"
   ]
  },
  {
   "cell_type": "code",
   "execution_count": 7,
   "metadata": {},
   "outputs": [
    {
     "name": "stdout",
     "output_type": "stream",
     "text": [
      "67.91779593023313\n"
     ]
    }
   ],
   "source": [
    "Age = 13.8*u.Gyr\n",
    "print(Age/T_grav) # Compute number of solar rotations over the age of the universe"
   ]
  },
  {
   "cell_type": "markdown",
   "metadata": {},
   "source": [
    "## Part B  Dark Matter Density Profiles\n",
    "\n",
    "### a)\n",
    "Try out Fitting Rotation Curves \n",
    "[here](http://wittman.physics.ucdavis.edu/Animations/RotationCurve/GalacticRotation.html)\n",
    "\n",
    "\n",
    "### b)\n",
    "\n",
    "\n",
    "In the Isothermal Sphere model, what is the mass enclosed within the solar radius (R$_o$) in units of M$_\\odot$? \n",
    "\n",
    "Recall that for the Isothermal sphere :\n",
    "$\\rho(r) = \\frac{V_{LSR}^2}{4\\pi G r^2}$\n",
    "\n",
    "Where $G$ = 4.4985e-6 kpc$^3$/Gyr$^2$/M$_\\odot$, r is in kpc and $V_{LSR}$ is in km/s\n",
    "\n",
    "What about at 260 kpc (in units of  M$_\\odot$) ? "
   ]
  },
  {
   "cell_type": "code",
   "execution_count": 8,
   "metadata": {},
   "outputs": [],
   "source": [
    "G = const.G.to(u.kpc**3/u.Gyr**2/u.Msun) # Gets G in desired units"
   ]
  },
  {
   "cell_type": "code",
   "execution_count": 10,
   "metadata": {},
   "outputs": [
    {
     "name": "stdout",
     "output_type": "stream",
     "text": [
      "1.05e+11 solMass\n"
     ]
    }
   ],
   "source": [
    "# density profile rho = VLSR^2/(4*pi*G*R^2)\n",
    "# Mass = Integrate rho dV = rho 4*pi*r**2 dr = VLSR**2 / (4*pi*G*r**2) * (r*pi*G*r**2) dr = VLSR**2/G*R\n",
    "def MassIso(r,VLSR):\n",
    "    '''\n",
    "    Computes dark matter mass enclosed within a given distance from the galactic center, assuming isothermal sphere:\n",
    "        M = VLSR**2/G*r\n",
    "    @param r (Quantity), the distance to the galactic center\n",
    "    @param VLSR (Quantity), the velocity of the local standard of rest\n",
    "    @returns M (Quantity), the mass envlosed within r\n",
    "    '''\n",
    "    VLSRkpcGyr = VLSR.to(u.kpc/u.Gyr) # Convert km/s to kpc/Gyr\n",
    "    M = VLSRkpcGyr**2/G*r # Mass for isothermal sphere\n",
    "    return M\n",
    "MIsoSolar = MassIso(RoGravity, VLSR_RoGravity) # Mass within solar radius\n",
    "print(f\"{MIsoSolar:.2e}\")"
   ]
  },
  {
   "cell_type": "code",
   "execution_count": 12,
   "metadata": {},
   "outputs": [
    {
     "name": "stdout",
     "output_type": "stream",
     "text": [
      "3.34e+12 solMass\n"
     ]
    }
   ],
   "source": [
    "MIso260 = MassIso(260*u.kpc, VLSR_RoGravity) # Mass within 260 kpc\n",
    "print(f\"{MIso260:.2e}\")"
   ]
  },
  {
   "cell_type": "markdown",
   "metadata": {},
   "source": [
    "## c) \n",
    "\n",
    "The Leo I satellite is one of the fastest moving satellite galaxies we know. \n",
    "\n",
    "\n",
    "It is moving with 3D velocity of magnitude: Vtot = 196 km/s at a distance of 260 kpc (Sohn 2013 ApJ 768)\n",
    "\n",
    "If we assume that Leo I is moving at the escape speed:\n",
    "\n",
    "$v_{esc}^2 = 2|\\Phi| = 2 \\int G \\frac{\\rho(r)}{r}dV $ \n",
    "\n",
    "and assuming the Milky Way is well modeled by a Hernquist Sphere with a scale radius of $a$= 30 kpc, what is the minimum mass of the Milky Way (in units of M$_\\odot$) ?  \n",
    "\n",
    "How does this compare to estimates of the mass assuming the Isothermal Sphere model at 260 kpc (from your answer above)"
   ]
  },
  {
   "cell_type": "code",
   "execution_count": 18,
   "metadata": {},
   "outputs": [],
   "source": [
    "# Hernquist Profile potential: phi = -GM/(r+a)\n",
    "# v_esc^2/2 = |phi| = GM/(r+a)\n",
    "# M = v_esc^2(r+a)/(2*G)\n",
    "def MassFromVesc(vesc,r,a):\n",
    "    '''\n",
    "    Determines the total mass needed for a given escape speed assuming a Hernquist Sphere dark matter profile\n",
    "        M = v_esc^2(r+a)/(2*G)\n",
    "    @param v_esc (Quantity), the escape speed of an object\n",
    "    @param r (Quantity), the distance of that object from the center of the galaxy\n",
    "    @param a (Quantity), the scale radius of the Hernquist Sphere\n",
    "    @returns M (Quanity), the mass of the galaxy\n",
    "    '''\n",
    "    vescKpcGyr = vesc.to(u.kpc/u.Gyr) # Convert velocity units to kpc/Gyr\n",
    "    return vescKpcGyr**2*(r+a)/(2*G) # Return the required mass"
   ]
  },
  {
   "cell_type": "code",
   "execution_count": 19,
   "metadata": {},
   "outputs": [
    {
     "name": "stdout",
     "output_type": "stream",
     "text": [
      "1.295147e+12 solMass\n"
     ]
    }
   ],
   "source": [
    "VLeoI = 196*u.km/u.s # Velocity of Leo I from Sohn+2013 ApJ 768\n",
    "rLeoI = 260*u.kpc # Distance of Leo I from galactic center from Sohn+2013 ApJ 768\n",
    "a = 30*u.kpc # Scale radius of Hernquist Halo\n",
    "MLeoI = MassFromVesc(VLeoI, rLeoI, a)\n",
    "print(f\"{MLeoI:2e}\")"
   ]
  },
  {
   "cell_type": "code",
   "execution_count": 20,
   "metadata": {},
   "outputs": [
    {
     "data": {
      "text/latex": [
       "$2.5784204 \\; \\mathrm{}$"
      ],
      "text/plain": [
       "<Quantity 2.57842045>"
      ]
     },
     "execution_count": 20,
     "metadata": {},
     "output_type": "execute_result"
    }
   ],
   "source": [
    "MIso260/MLeoI # Isothermal sphere mass gets a mass above the calculated limit -- dark matter has to turnover at some point"
   ]
  }
 ],
 "metadata": {
  "kernelspec": {
   "display_name": "Python 3 (ipykernel)",
   "language": "python",
   "name": "python3"
  },
  "language_info": {
   "codemirror_mode": {
    "name": "ipython",
    "version": 3
   },
   "file_extension": ".py",
   "mimetype": "text/x-python",
   "name": "python",
   "nbconvert_exporter": "python",
   "pygments_lexer": "ipython3",
   "version": "3.8.10"
  }
 },
 "nbformat": 4,
 "nbformat_minor": 2
}
